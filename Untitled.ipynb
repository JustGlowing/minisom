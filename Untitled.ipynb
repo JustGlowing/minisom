{
 "cells": [
  {
   "cell_type": "markdown",
   "metadata": {},
   "source": [
    "This example shows mapping a small set of RGB colors to a 3D space using MiniSom. \n",
    "\n",
    "Import libraries, define RGB colors, and specify the dimensions of SOM :"
   ]
  },
  {
   "cell_type": "code",
   "execution_count": 2,
   "metadata": {},
   "outputs": [],
   "source": [
    "import numpy as np\n",
    "import vispy\n",
    "from vispy import app, visuals, scene\n",
    "#vispy.use('pyqt5')\n",
    "app.use_app('ipynb_webgl')\n",
    "\n",
    "from minisom import *\n",
    "\n",
    "input = [[0., 0., 0.],\n",
    "      [0., 0., 1.],\n",
    "      [0., 0., 0.5],\n",
    "      [0.125, 0.529, 1.0],\n",
    "      [0.33, 0.4, 0.67],\n",
    "      [0.6, 0.5, 1.0],\n",
    "      [0., 1., 0.],\n",
    "      [1., 0., 0.],\n",
    "      [0., 1., 1.],\n",
    "      [1., 0., 1.],\n",
    "      [1., 1., 0.],\n",
    "      [1., 1., 1.],\n",
    "      [.33, .33, .33],\n",
    "      [.5, .5, .5],\n",
    "      [.66, .66, .66]]\n",
    "\n",
    "N1 = 10\n",
    "N2 = 10\n",
    "N3 = 10"
   ]
  },
  {
   "cell_type": "markdown",
   "metadata": {},
   "source": [
    "Define a function to get each neuron's weights and coordinate: "
   ]
  },
  {
   "cell_type": "code",
   "execution_count": 3,
   "metadata": {},
   "outputs": [],
   "source": [
    "def get_pos_and_color(weights):\n",
    "    positions = np.zeros((N1*N2*N3, 3))\n",
    "    colors = np.zeros((N1*N2*N3, 3))\n",
    "    idx = 0\n",
    "    for i, x in enumerate(weights):\n",
    "      for j, y in enumerate(x):\n",
    "        for k, z in enumerate(y):\n",
    "          p = [i, j, k]         #position\n",
    "          positions[idx] = p\n",
    "          colors[idx] = z        #color\n",
    "          idx += 1\n",
    "    return positions, colors"
   ]
  },
  {
   "cell_type": "markdown",
   "metadata": {},
   "source": [
    "Define a function to plot points at `positions` with `colors` using VisPy: "
   ]
  },
  {
   "cell_type": "code",
   "execution_count": 9,
   "metadata": {},
   "outputs": [],
   "source": [
    "def plot_pos_and_color(positions, colors):\n",
    "    # build your visuals, that's all\n",
    "    Scatter3D = scene.visuals.create_visual_node(visuals.MarkersVisual)\n",
    "    canvas = scene.SceneCanvas(keys='interactive', show=True)\n",
    "    \n",
    "    view = canvas.central_widget.add_view()\n",
    "    view.camera = 'turntable'\n",
    "    view.camera.fov = 45\n",
    "    view.camera.distance = 20\n",
    "    view.camera.center = [N1/2, N2/2, N3/2]\n",
    "    \n",
    "    p1 = Scatter3D(parent=view.scene)\n",
    "    p1.set_gl_state('translucent', blend=True, depth_test=True)\n",
    "    p1.set_data(positions, face_color=colors, symbol='o', size=10)\n",
    "    canvas.show()"
   ]
  },
  {
   "cell_type": "markdown",
   "metadata": {},
   "source": [
    "Initialize SOM and plot the colors: "
   ]
  },
  {
   "cell_type": "code",
   "execution_count": 10,
   "metadata": {},
   "outputs": [
    {
     "data": {
      "application/vnd.jupyter.widget-view+json": {
       "model_id": "fffa6c47baf042e3ba7faf585b27e0d5",
       "version_major": 2,
       "version_minor": 0
      },
      "text/plain": [
       "VispyWidget(height=600, width=800)"
      ]
     },
     "metadata": {},
     "output_type": "display_data"
    }
   ],
   "source": [
    "#initialize som\n",
    "som = MiniSom(N1, N2, 3, sigma=3., learning_rate=2.5, \n",
    "              neighborhood_function='gaussian', z = N3)\n",
    "#get positions and colors, then plot\n",
    "weights = abs(som.get_weights())\n",
    "positions, colors = get_pos_and_color(weights)\n",
    "plot_pos_and_color(positions, colors)\n"
   ]
  },
  {
   "cell_type": "code",
   "execution_count": null,
   "metadata": {},
   "outputs": [],
   "source": []
  }
 ],
 "metadata": {
  "kernelspec": {
   "display_name": "Python 3",
   "language": "python",
   "name": "python3"
  },
  "language_info": {
   "codemirror_mode": {
    "name": "ipython",
    "version": 3
   },
   "file_extension": ".py",
   "mimetype": "text/x-python",
   "name": "python",
   "nbconvert_exporter": "python",
   "pygments_lexer": "ipython3",
   "version": "3.7.9"
  }
 },
 "nbformat": 4,
 "nbformat_minor": 4
}
